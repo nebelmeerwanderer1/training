{
 "cells": [
  {
   "cell_type": "markdown",
   "metadata": {},
   "source": [
    "# Project Submission\n",
    "\n",
    "This notebook will be your project submission. All tasks will be listed in the order of the Courses that they appear in. The tasks will be the same as in the Capstone Example Notebook, but in this submission you ___MUST___ use another dataset. Failure to do so will result in a large penalty to your grade in this course.\n",
    "\n",
    "## Finding your dataset\n",
    "\n",
    "Take some time to find an interesting dataset! There is a reading discussing various places where datasets can be found, but if you are able to process it, go ahead and use it! Do note, for some tasks in this project, each entry will need 3+ attributes, so keep that in mind when finding datasets. After you have found your dataset, the tasks will continue as in the Example Notebook. You will be graded based on the tasks and your results. Best of luck!\n",
    "\n",
    "### As Reviewer: \n",
    "Your job will be to verify the calculations made at each \"TODO\" labeled throughout the notebook."
   ]
  },
  {
   "cell_type": "markdown",
   "metadata": {},
   "source": [
    "### First Step: Imports\n",
    "\n",
    "In the next cell we will give you all of the imports you should need to do your project. Feel free to add more if you would like, but these should be sufficient."
   ]
  },
  {
   "cell_type": "code",
   "execution_count": 1,
   "metadata": {},
   "outputs": [],
   "source": [
    "import gzip\n",
    "from collections import defaultdict\n",
    "import random\n",
    "import numpy as np\n",
    "import scipy.optimize\n",
    "import string\n",
    "from sklearn import linear_model\n",
    "from nltk.stem.porter import PorterStemmer # Stemming\n",
    "import pandas as pd\n"
   ]
  },
  {
   "cell_type": "markdown",
   "metadata": {},
   "source": [
    "# Task 1: Data Processing\n",
    "\n",
    "### TODO 1: Read the data and Fill your dataset"
   ]
  },
  {
   "cell_type": "code",
   "execution_count": null,
   "metadata": {},
   "outputs": [],
   "source": [
    "# read the data to a pandas dataframe\n",
    "#df = pd.read_csv (\"C:/Users/45517/Desktop/Capstone_project/Data/amazon_reviews_us_Home_Improvement_v1_00.tsv\", sep=\"\\t\", encoding = \"utf-8\", names=('marketplace', 'customer_id', 'review_id', 'product_id', 'product_parent', 'product_title', 'product_category', 'star_rating', 'helpful_votes', 'total_votes', 'vine', 'verified_purchase', 'review_headline', 'review_body', 'review_date'))"
   ]
  },
  {
   "cell_type": "markdown",
   "metadata": {},
   "source": [
    "The dataset comes from the original source - I could not find the cleaned version mentioned in the course material. \n",
    "So a bit of preliminary cleaning is necessary: \n",
    "- 1.1 remove rows with missing values\n",
    "- 1.2 remove row 1 - header duplication\n",
    "- 1.3 convert to int: star_rating, helpful_votes, total_votes\n",
    "- 1.4 convert to bool: vine, verified_purchase\n",
    "- 1.5 convert to datetime: review_date\n",
    "- 1.6 check consistency and quality of key columns"
   ]
  },
  {
   "cell_type": "markdown",
   "metadata": {},
   "source": [
    "# 1.1 remove rows with missing values\n",
    "missing_values_count = df.isnull().sum()\n",
    "missing_values_count"
   ]
  },
  {
   "cell_type": "markdown",
   "metadata": {},
   "source": [
    "#count of the number of rows removed - not too bad. \n",
    "df1 = df.dropna()\n",
    "(len(df), len(df1), len(df)-len(df1))"
   ]
  },
  {
   "cell_type": "markdown",
   "metadata": {},
   "source": [
    "# 1.2 remove row 1 - header duplication\n",
    "df1.head(2)"
   ]
  },
  {
   "cell_type": "markdown",
   "metadata": {},
   "source": [
    "df2 = df1.drop(0, axis = 0)\n",
    "df2.head(2)"
   ]
  },
  {
   "cell_type": "markdown",
   "metadata": {},
   "source": [
    "#we should reset index as we have deleted rows in 1.1 and 1.2\n",
    "df3 = df2.reset_index()"
   ]
  },
  {
   "cell_type": "markdown",
   "metadata": {},
   "source": [
    "# 1.3 convert to int: star_rating, helpful_votes, total_votes\n",
    "# we start with letting pandas find the best typefit\n",
    "df3 = df3.convert_dtypes()\n",
    "df3.dtypes"
   ]
  },
  {
   "cell_type": "markdown",
   "metadata": {},
   "source": [
    "df3[\"star_rating\"] = pd.to_numeric(df3[\"star_rating\"], downcast=\"signed\")\n",
    "df3[\"helpful_votes\"] = pd.to_numeric(df3[\"helpful_votes\"], downcast=\"signed\")\n",
    "df3[\"total_votes\"] = pd.to_numeric(df3[\"total_votes\"], downcast=\"signed\")"
   ]
  },
  {
   "cell_type": "markdown",
   "metadata": {},
   "source": [
    "# 1.4 convert to bool: vine, verified_purchase\n",
    "d = {'Y': True, 'N': False}\n",
    "df3[\"vine\"].map(d)\n",
    "df3[\"verified_purchase\"].map(d)"
   ]
  },
  {
   "cell_type": "markdown",
   "metadata": {},
   "source": [
    "# 1.5 convert to datetime: review_date\n",
    "#looks like some of the dates are non-valid\n",
    "date_lengths = df3.review_date.str.len()\n",
    "date_lengths.value_counts()"
   ]
  },
  {
   "cell_type": "markdown",
   "metadata": {},
   "source": [
    "indices = np.where([date_lengths == 1])[1]\n",
    "indices = indices\n",
    "print('Indices with corrupted data:', indices)\n",
    "df3.loc[indices]"
   ]
  },
  {
   "cell_type": "markdown",
   "metadata": {},
   "source": [
    "df4 = df3.drop(indices, axis = 0)\n",
    "date_lengths = df4.review_date.str.len()\n",
    "date_lengths.value_counts()"
   ]
  },
  {
   "cell_type": "markdown",
   "metadata": {},
   "source": [
    "#change timestamp to datetime type\n",
    "df4[\"review_date\"] = pd.to_datetime(df4[\"review_date\"], format=\"%Y-%M-%d\")"
   ]
  },
  {
   "cell_type": "markdown",
   "metadata": {},
   "source": [
    "#Convert to show date only\n",
    "df4[\"review_date\"] = df4[\"review_date\"].dt.date"
   ]
  },
  {
   "cell_type": "markdown",
   "metadata": {},
   "source": [
    "#change timestamp to datetime type\n",
    "df4[\"review_date\"] = pd.to_datetime(df4[\"review_date\"])"
   ]
  },
  {
   "cell_type": "markdown",
   "metadata": {},
   "source": [
    "#create column with month and year stamp\n",
    "df4['month_year'] = df4[\"review_date\"].dt.to_period('M')"
   ]
  },
  {
   "cell_type": "markdown",
   "metadata": {},
   "source": [
    "# 1.6 check the first rows in the dataset to see that things look fine\n",
    "df4.head()"
   ]
  },
  {
   "cell_type": "markdown",
   "metadata": {},
   "source": [
    "### TODO 2: Split the data into a Training and Testing set\n",
    "\n",
    "First shuffle your data, then split your data. Have Training be the first 80%, and testing be the remaining 20%. "
   ]
  },
  {
   "cell_type": "markdown",
   "metadata": {},
   "source": [
    "#shuffle the dataset in the dataframe format\n",
    "df4 = df4.sample(frac = 1)"
   ]
  },
  {
   "cell_type": "markdown",
   "metadata": {},
   "source": [
    "#Split the dataset\n",
    "N = len(df4)\n",
    "T = round(N*0.8)\n",
    "#V = round(N*0.2)\n",
    "TE = round(N*0.2)\n",
    "full_tr = df4[:T]\n",
    "#X_validation = X[T:T+V]\n",
    "full_test = df4[T:N]\n",
    "#y_train = y[:T]\n",
    "#y_validation = y[T:T+V]\n",
    "#y_test = y[T+V:N]"
   ]
  },
  {
   "cell_type": "markdown",
   "metadata": {},
   "source": [
    "#Check the split\n",
    "(len(df4), len(full_tr), len(full_test))"
   ]
  },
  {
   "cell_type": "code",
   "execution_count": null,
   "metadata": {},
   "outputs": [],
   "source": [
    "#save the testset and the trainingset\n",
    "#full_tr.to_csv(\"C:/Users/45517/Desktop/Capstone_project/Data/full_train.csv\", index=False)\n",
    "#full_test.to_csv(\"C:/Users/45517/Desktop/Capstone_project/Data/full_test.csv\", index = False)"
   ]
  },
  {
   "cell_type": "markdown",
   "metadata": {},
   "source": [
    "#### Now delete your dataset\n",
    "You don't want any of your answers to come from your original dataset any longer, but rather your Training Set, this will help you to not make any mistakes later on, especialy when referencing the checkpoint solutions."
   ]
  },
  {
   "cell_type": "code",
   "execution_count": 2,
   "metadata": {},
   "outputs": [],
   "source": [
    "# IMPORTANT! READ!\n",
    "# Not sure why delete the full dataset. I will disable everything until this step once executed - via markdown mode. \n",
    "# So the training and test set are shuffled and saved once - and from here we read and use the training set. "
   ]
  },
  {
   "cell_type": "code",
   "execution_count": 3,
   "metadata": {},
   "outputs": [],
   "source": [
    "#load the trainingset\n",
    "ft = pd.read_csv (\"C:/Users/45517/Desktop/Capstone_project/Data/full_train.csv\", sep=\",\", encoding = \"utf-8\")"
   ]
  },
  {
   "cell_type": "code",
   "execution_count": 4,
   "metadata": {
    "scrolled": false
   },
   "outputs": [
    {
     "data": {
      "text/html": [
       "<div>\n",
       "<style scoped>\n",
       "    .dataframe tbody tr th:only-of-type {\n",
       "        vertical-align: middle;\n",
       "    }\n",
       "\n",
       "    .dataframe tbody tr th {\n",
       "        vertical-align: top;\n",
       "    }\n",
       "\n",
       "    .dataframe thead th {\n",
       "        text-align: right;\n",
       "    }\n",
       "</style>\n",
       "<table border=\"1\" class=\"dataframe\">\n",
       "  <thead>\n",
       "    <tr style=\"text-align: right;\">\n",
       "      <th></th>\n",
       "      <th>index</th>\n",
       "      <th>marketplace</th>\n",
       "      <th>customer_id</th>\n",
       "      <th>review_id</th>\n",
       "      <th>product_id</th>\n",
       "      <th>product_parent</th>\n",
       "      <th>product_title</th>\n",
       "      <th>product_category</th>\n",
       "      <th>star_rating</th>\n",
       "      <th>helpful_votes</th>\n",
       "      <th>total_votes</th>\n",
       "      <th>vine</th>\n",
       "      <th>verified_purchase</th>\n",
       "      <th>review_headline</th>\n",
       "      <th>review_body</th>\n",
       "      <th>review_date</th>\n",
       "      <th>month_year</th>\n",
       "    </tr>\n",
       "  </thead>\n",
       "  <tbody>\n",
       "    <tr>\n",
       "      <th>0</th>\n",
       "      <td>1073134</td>\n",
       "      <td>US</td>\n",
       "      <td>30601198</td>\n",
       "      <td>R1L9PM379H1VH5</td>\n",
       "      <td>B0000CBIFD</td>\n",
       "      <td>389336482</td>\n",
       "      <td>Frost King R338H Sponge Rubber Foam Tape 3/16-...</td>\n",
       "      <td>Home Improvement</td>\n",
       "      <td>5</td>\n",
       "      <td>0</td>\n",
       "      <td>0</td>\n",
       "      <td>N</td>\n",
       "      <td>Y</td>\n",
       "      <td>Five Stars</td>\n",
       "      <td>works as intended</td>\n",
       "      <td>2014-01-12</td>\n",
       "      <td>2014-01</td>\n",
       "    </tr>\n",
       "    <tr>\n",
       "      <th>1</th>\n",
       "      <td>1917516</td>\n",
       "      <td>US</td>\n",
       "      <td>17463604</td>\n",
       "      <td>R346HYHY50CXOJ</td>\n",
       "      <td>B004EMNIQ8</td>\n",
       "      <td>623424728</td>\n",
       "      <td>Intertape Polymer Group 6555SL AC6 6mil  Utili...</td>\n",
       "      <td>Home Improvement</td>\n",
       "      <td>3</td>\n",
       "      <td>0</td>\n",
       "      <td>0</td>\n",
       "      <td>N</td>\n",
       "      <td>Y</td>\n",
       "      <td>Not the stickiest duct tape</td>\n",
       "      <td>This is not the stickiest duct tape out there ...</td>\n",
       "      <td>2013-01-01</td>\n",
       "      <td>2013-01</td>\n",
       "    </tr>\n",
       "    <tr>\n",
       "      <th>2</th>\n",
       "      <td>272957</td>\n",
       "      <td>US</td>\n",
       "      <td>13669558</td>\n",
       "      <td>R247HKWHM64AX5</td>\n",
       "      <td>B00DPVLTP6</td>\n",
       "      <td>214607005</td>\n",
       "      <td>Factop Light Strip Waterproof 5M IC6803 5050 D...</td>\n",
       "      <td>Home Improvement</td>\n",
       "      <td>1</td>\n",
       "      <td>0</td>\n",
       "      <td>0</td>\n",
       "      <td>N</td>\n",
       "      <td>Y</td>\n",
       "      <td>They are about as waterproof as your shoes wou...</td>\n",
       "      <td>These are NOT WATERPROOF.  They are about as w...</td>\n",
       "      <td>2015-01-22</td>\n",
       "      <td>2015-01</td>\n",
       "    </tr>\n",
       "  </tbody>\n",
       "</table>\n",
       "</div>"
      ],
      "text/plain": [
       "     index marketplace  customer_id       review_id  product_id  \\\n",
       "0  1073134          US     30601198  R1L9PM379H1VH5  B0000CBIFD   \n",
       "1  1917516          US     17463604  R346HYHY50CXOJ  B004EMNIQ8   \n",
       "2   272957          US     13669558  R247HKWHM64AX5  B00DPVLTP6   \n",
       "\n",
       "   product_parent                                      product_title  \\\n",
       "0       389336482  Frost King R338H Sponge Rubber Foam Tape 3/16-...   \n",
       "1       623424728  Intertape Polymer Group 6555SL AC6 6mil  Utili...   \n",
       "2       214607005  Factop Light Strip Waterproof 5M IC6803 5050 D...   \n",
       "\n",
       "   product_category  star_rating  helpful_votes  total_votes vine  \\\n",
       "0  Home Improvement            5              0            0    N   \n",
       "1  Home Improvement            3              0            0    N   \n",
       "2  Home Improvement            1              0            0    N   \n",
       "\n",
       "  verified_purchase                                    review_headline  \\\n",
       "0                 Y                                         Five Stars   \n",
       "1                 Y                        Not the stickiest duct tape   \n",
       "2                 Y  They are about as waterproof as your shoes wou...   \n",
       "\n",
       "                                         review_body review_date month_year  \n",
       "0                                  works as intended  2014-01-12    2014-01  \n",
       "1  This is not the stickiest duct tape out there ...  2013-01-01    2013-01  \n",
       "2  These are NOT WATERPROOF.  They are about as w...  2015-01-22    2015-01  "
      ]
     },
     "execution_count": 4,
     "metadata": {},
     "output_type": "execute_result"
    }
   ],
   "source": [
    "ft.head(3)"
   ]
  },
  {
   "cell_type": "code",
   "execution_count": 5,
   "metadata": {},
   "outputs": [],
   "source": [
    "ft[\"review_date\"] = pd.to_datetime(ft[\"review_date\"])\n",
    "ft['month_year'] = ft[\"review_date\"].dt.to_period('M')"
   ]
  },
  {
   "cell_type": "code",
   "execution_count": 6,
   "metadata": {
    "scrolled": false
   },
   "outputs": [
    {
     "data": {
      "text/plain": [
       "index                         int64\n",
       "marketplace                  object\n",
       "customer_id                   int64\n",
       "review_id                    object\n",
       "product_id                   object\n",
       "product_parent                int64\n",
       "product_title                object\n",
       "product_category             object\n",
       "star_rating                   int64\n",
       "helpful_votes                 int64\n",
       "total_votes                   int64\n",
       "vine                         object\n",
       "verified_purchase            object\n",
       "review_headline              object\n",
       "review_body                  object\n",
       "review_date          datetime64[ns]\n",
       "month_year                period[M]\n",
       "dtype: object"
      ]
     },
     "execution_count": 6,
     "metadata": {},
     "output_type": "execute_result"
    }
   ],
   "source": [
    "ft.dtypes"
   ]
  },
  {
   "cell_type": "markdown",
   "metadata": {},
   "source": [
    "### TODO 3: Extracting Basic Statistics\n",
    "\n",
    "Next you need to answer some questions through any means (i.e. write a function or just find the answer) all based on the __Training Set:__\n",
    "1. How many entries are in your dataset?\n",
    "2. Pick a non-trivial attribute (i.e. verified purchases in example), what percentage of your data has this attribute?\n",
    "3. Pick another different non-trivial attribute, what percentage of your data share both attributes?"
   ]
  },
  {
   "cell_type": "code",
   "execution_count": 7,
   "metadata": {},
   "outputs": [
    {
     "data": {
      "text/plain": [
       "(35762866, 2103698, (2103698, 17), 17.0)"
      ]
     },
     "execution_count": 7,
     "metadata": {},
     "output_type": "execute_result"
    }
   ],
   "source": [
    "# 3.1 Number of entries in the full training set\n",
    "total_cells = np.product(ft.shape)\n",
    "total_rows = len(ft)\n",
    "total_columns = ft.shape\n",
    "(total_cells, total_rows, total_columns, total_cells/total_rows)"
   ]
  },
  {
   "cell_type": "code",
   "execution_count": 8,
   "metadata": {},
   "outputs": [
    {
     "data": {
      "text/plain": [
       "Y    1884858\n",
       "N     218840\n",
       "Name: verified_purchase, dtype: int64"
      ]
     },
     "execution_count": 8,
     "metadata": {},
     "output_type": "execute_result"
    }
   ],
   "source": [
    "# 3.2 Pick a non-trivial attribute (i.e. verified purchases in example), what percentage of your data has this attribute?\n",
    "ft[\"verified_purchase\"].value_counts()"
   ]
  },
  {
   "cell_type": "code",
   "execution_count": 9,
   "metadata": {},
   "outputs": [
    {
     "name": "stdout",
     "output_type": "stream",
     "text": [
      "Ys = 1884858, Ns = 218840, ratio of Ys = 89.6%\n"
     ]
    }
   ],
   "source": [
    "Y = (ft[\"verified_purchase\"] == \"Y\").sum() \n",
    "N = (ft[\"verified_purchase\"] == \"N\").sum() \n",
    "print (\"Ys = \" + str(Y) + \", Ns = \" + str(N) + \", ratio of Ys = \" + str(round(Y/(Y+N)*100, 2))+\"%\")"
   ]
  },
  {
   "cell_type": "code",
   "execution_count": 10,
   "metadata": {},
   "outputs": [
    {
     "name": "stdout",
     "output_type": "stream",
     "text": [
      "One star ratings = 196683, total ratings = 2103698, ratio of one star ratings = 9.35%\n"
     ]
    }
   ],
   "source": [
    "# 3.3 Pick another different non-trivial attribute, what percentage of your data share both attributes?\n",
    "# how many received a one star rating?\n",
    "ones = (ft[\"star_rating\"] == 1).sum() \n",
    "total = len(ft) \n",
    "print (\"One star ratings = \" + str(ones) + \", total ratings = \" + str(total) + \", ratio of one star ratings = \" + str(round(ones/total*100, 2))+\"%\")"
   ]
  },
  {
   "cell_type": "code",
   "execution_count": 11,
   "metadata": {},
   "outputs": [
    {
     "name": "stdout",
     "output_type": "stream",
     "text": [
      "verified one-star ratings = 154532, ratio of total verified ratings = 8.2%\n"
     ]
    }
   ],
   "source": [
    "#Of the verified purchases, how many received a one star rating?\n",
    "verified_ones = ((ft[\"verified_purchase\"] == \"Y\") & (ft[\"star_rating\"] == 1)).sum()\n",
    "print(\"verified one-star ratings = \" + str(verified_ones) + \", ratio of total verified ratings = \" + str(round(verified_ones/Y*100, 2)) + \"%\") "
   ]
  },
  {
   "cell_type": "code",
   "execution_count": 12,
   "metadata": {},
   "outputs": [
    {
     "data": {
      "text/plain": [
       "1440129"
      ]
     },
     "execution_count": 12,
     "metadata": {},
     "output_type": "execute_result"
    }
   ],
   "source": [
    "# 3.4 How many unique users are there in the dataset?\n",
    "unique_users = ft.customer_id.value_counts().count()\n",
    "unique_users"
   ]
  },
  {
   "cell_type": "code",
   "execution_count": 13,
   "metadata": {},
   "outputs": [
    {
     "data": {
      "text/plain": [
       "310623"
      ]
     },
     "execution_count": 13,
     "metadata": {},
     "output_type": "execute_result"
    }
   ],
   "source": [
    "#How many unique products are there in the dataset?\n",
    "unique_products = ft.product_id.value_counts().count()\n",
    "unique_products"
   ]
  },
  {
   "cell_type": "code",
   "execution_count": 14,
   "metadata": {},
   "outputs": [
    {
     "data": {
      "text/plain": [
       "count    2.103698e+06\n",
       "mean     4.181956e+00\n",
       "std      1.303085e+00\n",
       "min      1.000000e+00\n",
       "25%      4.000000e+00\n",
       "50%      5.000000e+00\n",
       "75%      5.000000e+00\n",
       "max      5.000000e+00\n",
       "Name: star_rating, dtype: float64"
      ]
     },
     "execution_count": 14,
     "metadata": {},
     "output_type": "execute_result"
    }
   ],
   "source": [
    "# 3.5 What is the average rating?\n",
    "ft.star_rating.describe()"
   ]
  },
  {
   "cell_type": "code",
   "execution_count": 15,
   "metadata": {},
   "outputs": [
    {
     "data": {
      "text/plain": [
       "4.182"
      ]
     },
     "execution_count": 15,
     "metadata": {},
     "output_type": "execute_result"
    }
   ],
   "source": [
    "round(ft.star_rating.mean(), 3)"
   ]
  },
  {
   "cell_type": "code",
   "execution_count": 16,
   "metadata": {
    "scrolled": true
   },
   "outputs": [
    {
     "data": {
      "text/plain": [
       "2103698"
      ]
     },
     "execution_count": 16,
     "metadata": {},
     "output_type": "execute_result"
    },
    {
     "data": {
      "image/png": "[encoded data removed]",
      "text/plain": [
       "<Figure size 432x288 with 1 Axes>"
      ]
     },
     "metadata": {
      "needs_background": "light"
     },
     "output_type": "display_data"
    }
   ],
   "source": [
    "#histogram of key columns\n",
    "ft.hist(column='star_rating')\n",
    "len(ft)"
   ]
  },
  {
   "cell_type": "code",
   "execution_count": 17,
   "metadata": {},
   "outputs": [
    {
     "data": {
      "text/plain": [
       "8650"
      ]
     },
     "execution_count": 17,
     "metadata": {},
     "output_type": "execute_result"
    },
    {
     "data": {
      "image/png": "[encoded data removed]",
      "text/plain": [
       "<Figure size 432x288 with 1 Axes>"
      ]
     },
     "metadata": {
      "needs_background": "light"
     },
     "output_type": "display_data"
    }
   ],
   "source": [
    "vine = ft[ft[\"vine\"] == \"Y\"]\n",
    "vine.hist(column = \"star_rating\")\n",
    "len(vine)"
   ]
  },
  {
   "cell_type": "markdown",
   "metadata": {},
   "source": [
    "# Task 2: Classification\n",
    "\n",
    "Next you will use our knowledge of classification to extract features and make predictions based on them. Here you will be using a Logistic Regression Model, keep this in mind so you know where to get help from.\n",
    "\n",
    "### TODO 1: Define the feature function\n",
    "\n",
    "This implementation will be based on ___any two___ attributes from your dataset. You will be using these two attributes to predict a third. Hint: Remember the offset!"
   ]
  },
  {
   "cell_type": "code",
   "execution_count": 18,
   "metadata": {},
   "outputs": [],
   "source": [
    "# Logistic regression is covered in week 4 of 'design thinking and predictive analytics form data products': \n",
    "# See 'Classification in Python'-video and 'Gradient descent in Python'-video\n",
    "# Accuracy is covered in week 1 of 'meaningful predictive modeling' - 'classification diagnostics: accuracy and error'video\n",
    "# Regularizer is covered in week 2 of 'meaningful predictive modelling' - Adding a Regularizer to our Model, and Evaluating the Regularized Model - video\n"
   ]
  },
  {
   "cell_type": "code",
   "execution_count": 19,
   "metadata": {},
   "outputs": [],
   "source": [
    "# we will use 3 attributes (customer_id, review length, star rating) to predict verified_purchase\n",
    "# If the model is of any value it should beat the Y/Total-ratio for verified_purchase, \n",
    "# or always predicting five stars, which is the most common star rating"
   ]
  },
  {
   "cell_type": "code",
   "execution_count": 20,
   "metadata": {},
   "outputs": [],
   "source": [
    "def feature(d):\n",
    "    feat = [1, len(d['review_body']), d[\"customer_id\"], d[\"star_rating\"]]\n",
    "    return feat"
   ]
  },
  {
   "cell_type": "markdown",
   "metadata": {},
   "source": [
    "### TODO 2: Fit your model\n",
    "\n",
    "1. Create your __Feature Vector__ based on your feature function defined above. \n",
    "2. Create your __Label Vector__ based on the \"verified purchase\" column of your training set.\n",
    "3. Define your model as a __Logistic Regression__ model.\n",
    "4. Fit your model."
   ]
  },
  {
   "cell_type": "code",
   "execution_count": 253,
   "metadata": {},
   "outputs": [],
   "source": [
    "ft_sample = ft[:500000]"
   ]
  },
  {
   "cell_type": "code",
   "execution_count": 254,
   "metadata": {},
   "outputs": [
    {
     "data": {
      "text/plain": [
       "numpy.ndarray"
      ]
     },
     "execution_count": 254,
     "metadata": {},
     "output_type": "execute_result"
    }
   ],
   "source": [
    "#the feature vector\n",
    "X = np.array([feature(var) for var in ft_sample.iloc()])\n",
    "type(X)"
   ]
  },
  {
   "cell_type": "code",
   "execution_count": 255,
   "metadata": {},
   "outputs": [
    {
     "data": {
      "text/plain": [
       "numpy.ndarray"
      ]
     },
     "execution_count": 255,
     "metadata": {},
     "output_type": "execute_result"
    }
   ],
   "source": [
    "#the label vector\n",
    "y = np.array([var[\"verified_purchase\"] for var in ft_sample.iloc()])\n",
    "type(y)"
   ]
  },
  {
   "cell_type": "code",
   "execution_count": 256,
   "metadata": {},
   "outputs": [
    {
     "name": "stderr",
     "output_type": "stream",
     "text": [
      "C:\\Users\\45517\\anaconda3\\lib\\site-packages\\sklearn\\linear_model\\_logistic.py:762: ConvergenceWarning: lbfgs failed to converge (status=1):\n",
      "STOP: TOTAL NO. of ITERATIONS REACHED LIMIT.\n",
      "\n",
      "Increase the number of iterations (max_iter) or scale the data as shown in:\n",
      "    https://scikit-learn.org/stable/modules/preprocessing.html\n",
      "Please also refer to the documentation for alternative solver options:\n",
      "    https://scikit-learn.org/stable/modules/linear_model.html#logistic-regression\n",
      "  n_iter_i = _check_optimize_result(\n"
     ]
    },
    {
     "data": {
      "text/plain": [
       "LogisticRegression()"
      ]
     },
     "execution_count": 256,
     "metadata": {},
     "output_type": "execute_result"
    }
   ],
   "source": [
    "# the model defined and data fitted\n",
    "model = linear_model.LogisticRegression()\n",
    "model.fit(X, y)"
   ]
  },
  {
   "cell_type": "markdown",
   "metadata": {},
   "source": [
    "### TODO 3: Compute Accuracy of Your Model\n",
    "\n",
    "1. Make __Predictions__ based on your model.\n",
    "2. Compute the __Accuracy__ of your model."
   ]
  },
  {
   "cell_type": "code",
   "execution_count": 257,
   "metadata": {},
   "outputs": [],
   "source": [
    "#load test set"
   ]
  },
  {
   "cell_type": "code",
   "execution_count": 258,
   "metadata": {},
   "outputs": [
    {
     "data": {
      "text/plain": [
       "array(['Y', 'Y', 'Y', ..., 'Y', 'Y', 'Y'], dtype='<U1')"
      ]
     },
     "execution_count": 258,
     "metadata": {},
     "output_type": "execute_result"
    }
   ],
   "source": [
    "#make predictions\n",
    "predictions = model.predict(X)\n",
    "predictions"
   ]
  },
  {
   "cell_type": "code",
   "execution_count": 259,
   "metadata": {
    "scrolled": true
   },
   "outputs": [
    {
     "data": {
      "text/plain": [
       "count     500000\n",
       "unique         2\n",
       "top            Y\n",
       "freq      494112\n",
       "dtype: object"
      ]
     },
     "execution_count": 259,
     "metadata": {},
     "output_type": "execute_result"
    }
   ],
   "source": [
    "#convert predicted output to pd.series and describe\n",
    "predictionseries = pd.Series(predictions)\n",
    "predictionseries.describe()"
   ]
  },
  {
   "cell_type": "code",
   "execution_count": 261,
   "metadata": {},
   "outputs": [
    {
     "data": {
      "text/plain": [
       "448898"
      ]
     },
     "execution_count": 261,
     "metadata": {},
     "output_type": "execute_result"
    }
   ],
   "source": [
    "#correctpredictions\n",
    "correctpredictions = predictions == y\n",
    "sum(correctpredictions)"
   ]
  },
  {
   "cell_type": "code",
   "execution_count": 262,
   "metadata": {},
   "outputs": [
    {
     "data": {
      "text/plain": [
       "0.897796"
      ]
     },
     "execution_count": 262,
     "metadata": {},
     "output_type": "execute_result"
    }
   ],
   "source": [
    "#Accuracy\n",
    "accuracy = sum(correctpredictions)/len(correctpredictions)\n",
    "accuracy"
   ]
  },
  {
   "cell_type": "code",
   "execution_count": 263,
   "metadata": {},
   "outputs": [
    {
     "data": {
      "text/plain": [
       "0.896168"
      ]
     },
     "execution_count": 263,
     "metadata": {},
     "output_type": "execute_result"
    }
   ],
   "source": [
    "#Default position - just assume \"Y\" all the time \n",
    "Y = (ft_sample[\"verified_purchase\"] == \"Y\").sum() \n",
    "default = Y/len(correctpredictions)\n",
    "default"
   ]
  },
  {
   "cell_type": "code",
   "execution_count": 61,
   "metadata": {},
   "outputs": [],
   "source": [
    "# follows that the model perform slightly better than the default position which is to predict 'y' every time. \n",
    "# Note that it is on the training set! \n",
    "\n",
    "#also note: the input to the model has to be arrays (np.array)!"
   ]
  },
  {
   "cell_type": "markdown",
   "metadata": {},
   "source": [
    "# Task 3: Regression\n",
    "\n",
    "In this section you will start by working though two examples of altering features to further differentiate. Then you will work through how to evaluate a Regularaized model."
   ]
  },
  {
   "cell_type": "code",
   "execution_count": 348,
   "metadata": {},
   "outputs": [],
   "source": [
    "ft_sample1 = ft.iloc[:500000]"
   ]
  },
  {
   "cell_type": "code",
   "execution_count": 349,
   "metadata": {},
   "outputs": [
    {
     "data": {
      "text/plain": [
       "index                         int64\n",
       "marketplace                  object\n",
       "customer_id                   int64\n",
       "review_id                    object\n",
       "product_id                   object\n",
       "product_parent                int64\n",
       "product_title                object\n",
       "product_category             object\n",
       "star_rating                   int64\n",
       "helpful_votes                 int64\n",
       "total_votes                   int64\n",
       "vine                         object\n",
       "verified_purchase            object\n",
       "review_headline              object\n",
       "review_body                  object\n",
       "review_date          datetime64[ns]\n",
       "month_year                period[M]\n",
       "dtype: object"
      ]
     },
     "execution_count": 349,
     "metadata": {},
     "output_type": "execute_result"
    }
   ],
   "source": [
    "ft_sample1.dtypes"
   ]
  },
  {
   "cell_type": "markdown",
   "metadata": {},
   "source": [
    "### TODO 1: Unique Words in a Sample Set\n",
    "\n",
    "We are going to work with a new dataset here, as such we are going to take a smaller portion of the set and call it a Sample Set. This is because stemming on the normal training set will take a very long time. (Feel free to change sampleSet -> reg_dataset if you would like to see the difference for yourself)\n",
    "\n",
    "1. Count the number of unique words found within the 'review body' portion of the sample set defined below, making sure to __Ignore Punctuation and Capitalization__.\n",
    "2. Count the number of unique words found within the 'review body' portion of the sample set defined below, this time with use of __Stemming,__ __Ignoring Puctuation,__ ___and___ __Capitalization__."
   ]
  },
  {
   "cell_type": "code",
   "execution_count": 350,
   "metadata": {},
   "outputs": [],
   "source": [
    "#step 3.2: Engineering the text column\n",
    "\n",
    "# removes punctuation and upper case and creates a dict with count of all the words in the text column\n",
    "wordCount = defaultdict(int)\n",
    "punctuation = set(string.punctuation)\n",
    "for d in ft_sample1.iloc():\n",
    "    r = ''.join([c for c in d[\"review_body\"].lower() if not c in punctuation]) # removes punctuation and upper case\n",
    "    for w in r.split():\n",
    "        wordCount[w] += 1 # creates a count of all the words in the text column"
   ]
  },
  {
   "cell_type": "code",
   "execution_count": null,
   "metadata": {},
   "outputs": [],
   "source": [
    "# WITH STEMMER - add Stemmer to the engineering\n",
    "wordCountStem = defaultdict(int)\n",
    "punctuation = set(string.punctuation)\n",
    "stemmer = PorterStemmer()\n",
    "for d in ft_sample1.iloc():\n",
    "    r = ''.join([c for c in d[\"review_body\"].lower() if not c in punctuation]) # removes punctuation and upper case\n",
    "    for w in r.split():\n",
    "        w = stemmer.stem(w)\n",
    "        wordCountStem[w] += 1 # creates a count of all the words in the text column"
   ]
  },
  {
   "cell_type": "code",
   "execution_count": 351,
   "metadata": {},
   "outputs": [],
   "source": [
    "#FOR THE NON-STEMMED VERSION\n",
    "#sort the list of words descending\n",
    "counts = [(wordCount[w], w) for w in wordCount]\n",
    "counts.sort()\n",
    "counts.reverse()\n",
    "\n",
    "# create a list of the 1000 most used words\n",
    "words = [x[1] for x in counts[:500]]\n",
    "\n",
    "# create a dict and set of the 100 most used words\n",
    "wordID = dict(zip(words, range(len(words))))\n",
    "wordSet = set(words)"
   ]
  },
  {
   "cell_type": "code",
   "execution_count": null,
   "metadata": {},
   "outputs": [],
   "source": [
    "#FOR THE STEMMED VERSION\n",
    "#sort the list of words descending\n",
    "countsStem = [(wordCountStem[w], w) for w in wordCountStem]\n",
    "countsStem.sort()\n",
    "countsStem.reverse()\n",
    "\n",
    "# create a list of the 1000 most used words\n",
    "wordsStem = [x[1] for x in counts[:200]]\n",
    "\n",
    "# create a dict and set of the 100 most used words\n",
    "wordIDStem = dict(zip(wordsStem, range(len(wordsStem))))\n",
    "wordSetStem = set(wordsStem)"
   ]
  },
  {
   "cell_type": "markdown",
   "metadata": {},
   "source": [
    "### TODO 2: Evaluating Classifiers\n",
    "\n",
    "1. Given the feature function and your counts vector, __Define__ your X_reg vector. (This being the X vector, simply labeled for the Regression model)\n",
    "2. __Fit__ your model using a __Ridge Model__ with (alpha = 1.0, fit_intercept = True).\n",
    "3. Using your model, __Make your Predictions__.\n",
    "4. Find the __MSE__ between your predictions and your y_reg vector."
   ]
  },
  {
   "cell_type": "code",
   "execution_count": null,
   "metadata": {},
   "outputs": [],
   "source": [
    "#I will only run the non-stemmer model - due to compute constraints "
   ]
  },
  {
   "cell_type": "code",
   "execution_count": 352,
   "metadata": {},
   "outputs": [],
   "source": [
    "#the function needed to create a list for a particular review\n",
    "def feature(datum):\n",
    "    feat = [0]*len(words) # list of 1000 zeros\n",
    "    r = ''.join([c for c in datum['review_body'].lower() if not c in punctuation])\n",
    "    for w in r.split():\n",
    "        if w in words:\n",
    "            feat[wordID[w]] +=1\n",
    "    feat.append(1) # add the offset dimension\n",
    "    return feat\n",
    "\n",
    "#the function that will evaluate the model\n",
    "def accuracy(model, X, y):\n",
    "    predictionsreg = model.predict(X)\n",
    "    correctpredictionsreg = predictionsreg == y\n",
    "    return sum(correctpredictionsreg)/len(correctpredictionsreg)"
   ]
  },
  {
   "cell_type": "code",
   "execution_count": 353,
   "metadata": {},
   "outputs": [],
   "source": [
    "#saves the most accurate model\n",
    "bestModel = None\n",
    "bestaccuracy = None"
   ]
  },
  {
   "cell_type": "code",
   "execution_count": 354,
   "metadata": {},
   "outputs": [],
   "source": [
    "#feature input - note it is a numpy.array\n",
    "X_reg = np.array([feature(d) for d in ft_sample1.iloc()])"
   ]
  },
  {
   "cell_type": "code",
   "execution_count": 355,
   "metadata": {},
   "outputs": [
    {
     "name": "stderr",
     "output_type": "stream",
     "text": [
      "<ipython-input-355-978a8916121e>:8: SettingWithCopyWarning: \n",
      "A value is trying to be set on a copy of a slice from a DataFrame.\n",
      "Try using .loc[row_indexer,col_indexer] = value instead\n",
      "\n",
      "See the caveats in the documentation: https://pandas.pydata.org/pandas-docs/stable/user_guide/indexing.html#returning-a-view-versus-a-copy\n",
      "  ft_sample1['verified_purchase1'] = ft_sample1.apply(lambda row: normer(row), axis=1)\n"
     ]
    }
   ],
   "source": [
    "#change label column from Y/N to 1/0\n",
    "def normer(var):\n",
    "    d = var\n",
    "    if d[\"verified_purchase\"] == \"Y\":\n",
    "        return 1\n",
    "    else:\n",
    "        return 0\n",
    "\n",
    "ft_sample1['verified_purchase1'] = ft_sample1.apply(lambda row: normer(row), axis=1)"
   ]
  },
  {
   "cell_type": "code",
   "execution_count": 356,
   "metadata": {},
   "outputs": [],
   "source": [
    "#ft_sample1.head()"
   ]
  },
  {
   "cell_type": "code",
   "execution_count": 357,
   "metadata": {},
   "outputs": [],
   "source": [
    "#Label column - also numpy array\n",
    "y_reg = np.array([d[\"verified_purchase1\"] for d in ft_sample1.iloc()])"
   ]
  },
  {
   "cell_type": "code",
   "execution_count": 358,
   "metadata": {},
   "outputs": [
    {
     "name": "stdout",
     "output_type": "stream",
     "text": [
      "lambda = 0.0001 , training/(validation) accuracy = 0.897392\n",
      "lambda = 0.001 , training/(validation) accuracy = 0.897392\n",
      "lambda = 0.01 , training/(validation) accuracy = 0.897392\n",
      "lambda = 1 , training/(validation) accuracy = 0.89739\n"
     ]
    }
   ],
   "source": [
    "#fits the model and calculates accuracy (note the it is RidgeClassifier that is used)\n",
    "for lamb in (0.0001, 0.001, 0.01, 1):\n",
    "    modelreg = linear_model.RidgeClassifier(alpha=lamb, fit_intercept = False)\n",
    "    modelreg.fit(X_reg, y_reg)\n",
    "    \n",
    "    accuracyTrain = accuracy(modelreg, X_reg, y_reg)\n",
    "    #mseValidation = MSE(model, X_validation, y_validation)\n",
    "\n",
    "    print(\"lambda = \" + str(lamb) + \" , training/(validation) accuracy = \" + str(accuracyTrain))# + \"/\" + str(mseValidation))\n",
    "    if not bestModel or accuracyTrain < bestaccuracy:\n",
    "        bestModel = model\n",
    "        bestaccuracy = accuracyTrain"
   ]
  },
  {
   "cell_type": "code",
   "execution_count": 359,
   "metadata": {},
   "outputs": [
    {
     "data": {
      "text/plain": [
       "(500000, 500, Ridge(alpha=0.01, fit_intercept=False), 0.89739)"
      ]
     },
     "execution_count": 359,
     "metadata": {},
     "output_type": "execute_result"
    }
   ],
   "source": [
    "#output of the best fit model\n",
    "(len(X), len(words), bestModel, round(bestaccuracy, 5))"
   ]
  },
  {
   "cell_type": "code",
   "execution_count": null,
   "metadata": {},
   "outputs": [],
   "source": [
    "# compare the accuracy of the models in task 2 and task 3. Almost same performance, but the Task 2 model is slightly better\n",
    "#could be interesting to combine them"
   ]
  },
  {
   "cell_type": "markdown",
   "metadata": {},
   "source": [
    "# Task 4: Recommendation Systems\n",
    "\n",
    "For your final task, you will use your knowledge of simple similarity-based recommender systems to make calculate the most similar items.\n",
    "\n",
    "The next cell contains some starter code that you will need for your tasks in this section.\n",
    "Notice you should be back to using your __trainingSet__."
   ]
  },
  {
   "cell_type": "code",
   "execution_count": 138,
   "metadata": {},
   "outputs": [],
   "source": [
    "# Relevant videos: Deploying machine learning models: Week 1 - collaborative filtering-based recommendation video, \n",
    "# Week 2 - Implementing a similarity-based recommender, week 2 - Similarity based recommender for Rating prediction"
   ]
  },
  {
   "cell_type": "code",
   "execution_count": null,
   "metadata": {},
   "outputs": [],
   "source": [
    "# we will use customer_id and product_parent as key columns. product_parent corresponds best to product_title. "
   ]
  },
  {
   "cell_type": "code",
   "execution_count": 195,
   "metadata": {},
   "outputs": [],
   "source": [
    "ft_sample4 = ft"
   ]
  },
  {
   "cell_type": "code",
   "execution_count": 196,
   "metadata": {},
   "outputs": [],
   "source": [
    "#creates 2 default lists in the set format: 1 to contain sets of all products per customer and 1 to contain sets of all customers per product\n",
    "customersperproduct = defaultdict(set)\n",
    "productspercustomer = defaultdict(set)"
   ]
  },
  {
   "cell_type": "code",
   "execution_count": 197,
   "metadata": {},
   "outputs": [],
   "source": [
    "# creates a dictionary of all to lookup product titles so that product parents make sense - we can compare whether a recommendation \n",
    "# seems to make sense (items that would be bought together)\n",
    "itemNames = {}"
   ]
  },
  {
   "cell_type": "markdown",
   "metadata": {},
   "source": [
    "### TODO 1: Fill your Dictionaries\n",
    "\n",
    "1. For each entry in your training set, fill your default dictionaries (defined above). "
   ]
  },
  {
   "cell_type": "code",
   "execution_count": 198,
   "metadata": {},
   "outputs": [],
   "source": [
    "#now we populate the dictionaries\n",
    "for d in ft_sample4.iloc:\n",
    "    customer,product = d[\"customer_id\"],d[\"product_parent\"]\n",
    "    customersperproduct[product].add(customer)\n",
    "    productspercustomer[customer].add(product)\n",
    "    itemNames[product] = d[\"product_title\"]"
   ]
  },
  {
   "cell_type": "code",
   "execution_count": 199,
   "metadata": {},
   "outputs": [],
   "source": [
    "#define the Jaccard similarity\n",
    "def Jaccard(s1, s2):\n",
    "    numer = len(s1.intersection(s2))\n",
    "    denom = len(s1.union(s2))\n",
    "    return numer / denom\n",
    "\n",
    "#calculate and sort the similar item - candidateproducts loop speeds up the process by only looking at relevant product \n",
    "def mostSimilar(n, m): #n is the entry index, #m is the number of entries\n",
    "    similarities = []  \n",
    "    users = customersperproduct[n]\n",
    "    candidateproducts = set()\n",
    "    for u in users:\n",
    "        candidateproducts = candidateproducts.union(productspercustomer[u])    \n",
    "    for i2 in candidateproducts:\n",
    "        if i2 == n: continue\n",
    "        sim = Jaccard(users, customersperproduct[i2])\n",
    "        similarities.append((sim,i2))\n",
    "    similarities.sort(reverse=True)\n",
    "    return similarities[:m]"
   ]
  },
  {
   "cell_type": "markdown",
   "metadata": {},
   "source": [
    "### TODO 1: Fill your Dictionaries\n",
    "\n",
    "1. Calculate the __10__ most similar entries to the __first__ entry in your dataset, using the functions defined above."
   ]
  },
  {
   "cell_type": "code",
   "execution_count": 203,
   "metadata": {},
   "outputs": [
    {
     "data": {
      "text/plain": [
       "[(0.0425531914893617, 746424642),\n",
       " (0.03773584905660377, 459620076),\n",
       " (0.037037037037037035, 965101388),\n",
       " (0.037037037037037035, 925022928),\n",
       " (0.037037037037037035, 744593919),\n",
       " (0.037037037037037035, 663256728),\n",
       " (0.037037037037037035, 526186588),\n",
       " (0.037037037037037035, 373323101),\n",
       " (0.037037037037037035, 88680219),\n",
       " (0.037037037037037035, 67573513)]"
      ]
     },
     "execution_count": 203,
     "metadata": {},
     "output_type": "execute_result"
    }
   ],
   "source": [
    "#example\n",
    "#input\n",
    "query = ft_sample4.loc[1][\"product_parent\"]\n",
    "#output\n",
    "mostSimilar(query, 10)"
   ]
  },
  {
   "cell_type": "code",
   "execution_count": 204,
   "metadata": {},
   "outputs": [
    {
     "data": {
      "text/plain": [
       "'Intertape Polymer Group 6555SL AC6 6mil  Utility Grade Duct Tape, 1.88-Inch x 55-Yard, Silver, 3-Pack'"
      ]
     },
     "execution_count": 204,
     "metadata": {},
     "output_type": "execute_result"
    }
   ],
   "source": [
    "itemNames[query]"
   ]
  },
  {
   "cell_type": "code",
   "execution_count": 205,
   "metadata": {},
   "outputs": [
    {
     "data": {
      "text/plain": [
       "['Brinks Home Security Push Pull Rotate Door Locks Alwood Entry Lever',\n",
       " '3-IN-ONE Oil No Rust Shield Rust & Corrosion Inhibitor (Pack of 12)',\n",
       " 'BOSCH POWER TOOLS\\xa0Replacement Part 2610967697\\xa0Use Accessory',\n",
       " 'BOSCH POWER TOOLS\\xa0Replacement Part 373094\\xa0Use Accessory',\n",
       " 'BOSCH POWER TOOLS\\xa0Replacement Part 318879\\xa0Use Accessory',\n",
       " '6885 1.18-Inch by 100-Yard Ribbon, Yellow, 12-Pack',\n",
       " 'Anchor 1/0-50 Cable Kitw/Ab-Lc40 M/F',\n",
       " 'BOSCH POWER TOOLS\\xa0Replacement Part 5048901\\xa0Use Accessory',\n",
       " 'Kenyon Express II B23200 13\" Portable Butane Gas Cooker with Carrying Case',\n",
       " 'BOSCH POWER TOOLS\\xa0Replacement Part 318802\\xa0Use Accessory']"
      ]
     },
     "execution_count": 205,
     "metadata": {},
     "output_type": "execute_result"
    }
   ],
   "source": [
    "[itemNames[x[1]] for x in mostSimilar(query,10)]"
   ]
  },
  {
   "cell_type": "markdown",
   "metadata": {},
   "source": [
    "## Finished!\n",
    "\n",
    "Congratulations! You are now ready to submit your work. Once you have submitted make sure to get started on your peer reviews!"
   ]
  }
 ],
 "metadata": {
  "kernelspec": {
   "display_name": "Python 3",
   "language": "python",
   "name": "python3"
  },
  "language_info": {
   "codemirror_mode": {
    "name": "ipython",
    "version": 3
   },
   "file_extension": ".py",
   "mimetype": "text/x-python",
   "name": "python",
   "nbconvert_exporter": "python",
   "pygments_lexer": "ipython3",
   "version": "3.8.5"
  }
 },
 "nbformat": 4,
 "nbformat_minor": 2
}
